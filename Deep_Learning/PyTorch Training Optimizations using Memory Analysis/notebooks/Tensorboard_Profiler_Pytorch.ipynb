{
 "cells": [
  {
   "cell_type": "markdown",
   "metadata": {
    "id": "e9u0OFBwWmoQ"
   },
   "source": [
    "\n",
    "# PyTorch Profiler With TensorBoard\n",
    "This tutorial demonstrates how to use TensorBoard plugin with PyTorch Profiler\n",
    "to detect performance bottlenecks of the model.\n",
    "\n",
    "## Introduction\n",
    "PyTorch 1.8 includes an updated profiler API capable of\n",
    "recording the CPU side operations as well as the CUDA kernel launches on the GPU side.\n",
    "The profiler can visualize this information\n",
    "in TensorBoard Plugin and provide analysis of the performance bottlenecks. In this tutorial, we will use a simple Mobilenet_V2 model to demonstrate how to\n",
    "use TensorBoard plugin to analyze model performance.\n",
    "\n",
    "Pytorch example \"PyTorch Profiler With TensorBoard\" is used for base model which is available [Link](https://pytorch.org/tutorials/intermediate/tensorboard_profiler_tutorial.html) accessed on February 13, 2024\n",
    "\n",
    "\n",
    "## Setup\n",
    "To install ``torch`` and ``torchvision`` use the following command:\n",
    "\n",
    "```\n",
    "pip install torch torchvision\n",
    "```\n"
   ]
  },
  {
   "cell_type": "markdown",
   "metadata": {
    "id": "WDG_cTMdWmoS"
   },
   "source": [
    "## Steps\n",
    "\n",
    "1. Prepare the data and model\n",
    "2. Use profiler to record execution events\n",
    "3. Run the profiler\n",
    "4. Use TensorBoard to view results and analyze model performance\n",
    "5. Improve performance with the help of profiler\n",
    "6. Analyze performance with other advanced features\n",
    "\n",
    "### 1. Prepare the data and model\n",
    "\n",
    "First, import all necessary libraries:\n",
    "\n",
    "\n"
   ]
  },
  {
   "cell_type": "code",
   "execution_count": 2,
   "metadata": {
    "id": "9E4UIIgcWmoS"
   },
   "outputs": [],
   "source": [
    "import torch\n",
    "import torch.nn\n",
    "import torch.optim\n",
    "import torch.profiler\n",
    "import torch.utils.data\n",
    "import torchvision.datasets\n",
    "import torchvision.models\n",
    "import torchvision.transforms as T"
   ]
  },
  {
   "cell_type": "markdown",
   "metadata": {
    "id": "R-Fr0pICWmoS"
   },
   "source": [
    "Then prepare the input data. For this tutorial, we use the CIFAR10 dataset.\n",
    "Transform it to the desired format and use ``DataLoader`` to load each batch.\n",
    "\n"
   ]
  },
  {
   "cell_type": "code",
   "execution_count": 3,
   "metadata": {
    "id": "qQBz1YebWmoS"
   },
   "outputs": [
    {
     "name": "stdout",
     "output_type": "stream",
     "text": [
      "Files already downloaded and verified\n"
     ]
    }
   ],
   "source": [
    "transform = T.Compose(\n",
    "    [T.Resize(224),\n",
    "     T.ToTensor()#,\n",
    "     ]) #T.Normalize((0.5, 0.5, 0.5), (0.5, 0.5, 0.5))\n",
    "train_set = torchvision.datasets.CIFAR10(root='./data', train=True, download=True, transform=transform)\n",
    "train_loader = torch.utils.data.DataLoader(train_set, batch_size=128, shuffle=True, num_workers=2, pin_memory=True)"
   ]
  },
  {
   "cell_type": "markdown",
   "metadata": {
    "id": "UW-hm6AvWmoT"
   },
   "source": [
    "Next, create Mobilenet_V2 model, loss function, and optimizer objects.\n",
    "To run on GPU, move model and loss to GPU device.\n",
    "\n"
   ]
  },
  {
   "cell_type": "code",
   "execution_count": 4,
   "metadata": {
    "id": "fNN4auVuWmoT"
   },
   "outputs": [
    {
     "data": {
      "text/plain": [
       "MobileNetV2(\n",
       "  (features): Sequential(\n",
       "    (0): Conv2dNormActivation(\n",
       "      (0): Conv2d(3, 32, kernel_size=(3, 3), stride=(2, 2), padding=(1, 1), bias=False)\n",
       "      (1): BatchNorm2d(32, eps=1e-05, momentum=0.1, affine=True, track_running_stats=True)\n",
       "      (2): ReLU6(inplace=True)\n",
       "    )\n",
       "    (1): InvertedResidual(\n",
       "      (conv): Sequential(\n",
       "        (0): Conv2dNormActivation(\n",
       "          (0): Conv2d(32, 32, kernel_size=(3, 3), stride=(1, 1), padding=(1, 1), groups=32, bias=False)\n",
       "          (1): BatchNorm2d(32, eps=1e-05, momentum=0.1, affine=True, track_running_stats=True)\n",
       "          (2): ReLU6(inplace=True)\n",
       "        )\n",
       "        (1): Conv2d(32, 16, kernel_size=(1, 1), stride=(1, 1), bias=False)\n",
       "        (2): BatchNorm2d(16, eps=1e-05, momentum=0.1, affine=True, track_running_stats=True)\n",
       "      )\n",
       "    )\n",
       "    (2): InvertedResidual(\n",
       "      (conv): Sequential(\n",
       "        (0): Conv2dNormActivation(\n",
       "          (0): Conv2d(16, 96, kernel_size=(1, 1), stride=(1, 1), bias=False)\n",
       "          (1): BatchNorm2d(96, eps=1e-05, momentum=0.1, affine=True, track_running_stats=True)\n",
       "          (2): ReLU6(inplace=True)\n",
       "        )\n",
       "        (1): Conv2dNormActivation(\n",
       "          (0): Conv2d(96, 96, kernel_size=(3, 3), stride=(2, 2), padding=(1, 1), groups=96, bias=False)\n",
       "          (1): BatchNorm2d(96, eps=1e-05, momentum=0.1, affine=True, track_running_stats=True)\n",
       "          (2): ReLU6(inplace=True)\n",
       "        )\n",
       "        (2): Conv2d(96, 24, kernel_size=(1, 1), stride=(1, 1), bias=False)\n",
       "        (3): BatchNorm2d(24, eps=1e-05, momentum=0.1, affine=True, track_running_stats=True)\n",
       "      )\n",
       "    )\n",
       "    (3): InvertedResidual(\n",
       "      (conv): Sequential(\n",
       "        (0): Conv2dNormActivation(\n",
       "          (0): Conv2d(24, 144, kernel_size=(1, 1), stride=(1, 1), bias=False)\n",
       "          (1): BatchNorm2d(144, eps=1e-05, momentum=0.1, affine=True, track_running_stats=True)\n",
       "          (2): ReLU6(inplace=True)\n",
       "        )\n",
       "        (1): Conv2dNormActivation(\n",
       "          (0): Conv2d(144, 144, kernel_size=(3, 3), stride=(1, 1), padding=(1, 1), groups=144, bias=False)\n",
       "          (1): BatchNorm2d(144, eps=1e-05, momentum=0.1, affine=True, track_running_stats=True)\n",
       "          (2): ReLU6(inplace=True)\n",
       "        )\n",
       "        (2): Conv2d(144, 24, kernel_size=(1, 1), stride=(1, 1), bias=False)\n",
       "        (3): BatchNorm2d(24, eps=1e-05, momentum=0.1, affine=True, track_running_stats=True)\n",
       "      )\n",
       "    )\n",
       "    (4): InvertedResidual(\n",
       "      (conv): Sequential(\n",
       "        (0): Conv2dNormActivation(\n",
       "          (0): Conv2d(24, 144, kernel_size=(1, 1), stride=(1, 1), bias=False)\n",
       "          (1): BatchNorm2d(144, eps=1e-05, momentum=0.1, affine=True, track_running_stats=True)\n",
       "          (2): ReLU6(inplace=True)\n",
       "        )\n",
       "        (1): Conv2dNormActivation(\n",
       "          (0): Conv2d(144, 144, kernel_size=(3, 3), stride=(2, 2), padding=(1, 1), groups=144, bias=False)\n",
       "          (1): BatchNorm2d(144, eps=1e-05, momentum=0.1, affine=True, track_running_stats=True)\n",
       "          (2): ReLU6(inplace=True)\n",
       "        )\n",
       "        (2): Conv2d(144, 32, kernel_size=(1, 1), stride=(1, 1), bias=False)\n",
       "        (3): BatchNorm2d(32, eps=1e-05, momentum=0.1, affine=True, track_running_stats=True)\n",
       "      )\n",
       "    )\n",
       "    (5): InvertedResidual(\n",
       "      (conv): Sequential(\n",
       "        (0): Conv2dNormActivation(\n",
       "          (0): Conv2d(32, 192, kernel_size=(1, 1), stride=(1, 1), bias=False)\n",
       "          (1): BatchNorm2d(192, eps=1e-05, momentum=0.1, affine=True, track_running_stats=True)\n",
       "          (2): ReLU6(inplace=True)\n",
       "        )\n",
       "        (1): Conv2dNormActivation(\n",
       "          (0): Conv2d(192, 192, kernel_size=(3, 3), stride=(1, 1), padding=(1, 1), groups=192, bias=False)\n",
       "          (1): BatchNorm2d(192, eps=1e-05, momentum=0.1, affine=True, track_running_stats=True)\n",
       "          (2): ReLU6(inplace=True)\n",
       "        )\n",
       "        (2): Conv2d(192, 32, kernel_size=(1, 1), stride=(1, 1), bias=False)\n",
       "        (3): BatchNorm2d(32, eps=1e-05, momentum=0.1, affine=True, track_running_stats=True)\n",
       "      )\n",
       "    )\n",
       "    (6): InvertedResidual(\n",
       "      (conv): Sequential(\n",
       "        (0): Conv2dNormActivation(\n",
       "          (0): Conv2d(32, 192, kernel_size=(1, 1), stride=(1, 1), bias=False)\n",
       "          (1): BatchNorm2d(192, eps=1e-05, momentum=0.1, affine=True, track_running_stats=True)\n",
       "          (2): ReLU6(inplace=True)\n",
       "        )\n",
       "        (1): Conv2dNormActivation(\n",
       "          (0): Conv2d(192, 192, kernel_size=(3, 3), stride=(1, 1), padding=(1, 1), groups=192, bias=False)\n",
       "          (1): BatchNorm2d(192, eps=1e-05, momentum=0.1, affine=True, track_running_stats=True)\n",
       "          (2): ReLU6(inplace=True)\n",
       "        )\n",
       "        (2): Conv2d(192, 32, kernel_size=(1, 1), stride=(1, 1), bias=False)\n",
       "        (3): BatchNorm2d(32, eps=1e-05, momentum=0.1, affine=True, track_running_stats=True)\n",
       "      )\n",
       "    )\n",
       "    (7): InvertedResidual(\n",
       "      (conv): Sequential(\n",
       "        (0): Conv2dNormActivation(\n",
       "          (0): Conv2d(32, 192, kernel_size=(1, 1), stride=(1, 1), bias=False)\n",
       "          (1): BatchNorm2d(192, eps=1e-05, momentum=0.1, affine=True, track_running_stats=True)\n",
       "          (2): ReLU6(inplace=True)\n",
       "        )\n",
       "        (1): Conv2dNormActivation(\n",
       "          (0): Conv2d(192, 192, kernel_size=(3, 3), stride=(2, 2), padding=(1, 1), groups=192, bias=False)\n",
       "          (1): BatchNorm2d(192, eps=1e-05, momentum=0.1, affine=True, track_running_stats=True)\n",
       "          (2): ReLU6(inplace=True)\n",
       "        )\n",
       "        (2): Conv2d(192, 64, kernel_size=(1, 1), stride=(1, 1), bias=False)\n",
       "        (3): BatchNorm2d(64, eps=1e-05, momentum=0.1, affine=True, track_running_stats=True)\n",
       "      )\n",
       "    )\n",
       "    (8): InvertedResidual(\n",
       "      (conv): Sequential(\n",
       "        (0): Conv2dNormActivation(\n",
       "          (0): Conv2d(64, 384, kernel_size=(1, 1), stride=(1, 1), bias=False)\n",
       "          (1): BatchNorm2d(384, eps=1e-05, momentum=0.1, affine=True, track_running_stats=True)\n",
       "          (2): ReLU6(inplace=True)\n",
       "        )\n",
       "        (1): Conv2dNormActivation(\n",
       "          (0): Conv2d(384, 384, kernel_size=(3, 3), stride=(1, 1), padding=(1, 1), groups=384, bias=False)\n",
       "          (1): BatchNorm2d(384, eps=1e-05, momentum=0.1, affine=True, track_running_stats=True)\n",
       "          (2): ReLU6(inplace=True)\n",
       "        )\n",
       "        (2): Conv2d(384, 64, kernel_size=(1, 1), stride=(1, 1), bias=False)\n",
       "        (3): BatchNorm2d(64, eps=1e-05, momentum=0.1, affine=True, track_running_stats=True)\n",
       "      )\n",
       "    )\n",
       "    (9): InvertedResidual(\n",
       "      (conv): Sequential(\n",
       "        (0): Conv2dNormActivation(\n",
       "          (0): Conv2d(64, 384, kernel_size=(1, 1), stride=(1, 1), bias=False)\n",
       "          (1): BatchNorm2d(384, eps=1e-05, momentum=0.1, affine=True, track_running_stats=True)\n",
       "          (2): ReLU6(inplace=True)\n",
       "        )\n",
       "        (1): Conv2dNormActivation(\n",
       "          (0): Conv2d(384, 384, kernel_size=(3, 3), stride=(1, 1), padding=(1, 1), groups=384, bias=False)\n",
       "          (1): BatchNorm2d(384, eps=1e-05, momentum=0.1, affine=True, track_running_stats=True)\n",
       "          (2): ReLU6(inplace=True)\n",
       "        )\n",
       "        (2): Conv2d(384, 64, kernel_size=(1, 1), stride=(1, 1), bias=False)\n",
       "        (3): BatchNorm2d(64, eps=1e-05, momentum=0.1, affine=True, track_running_stats=True)\n",
       "      )\n",
       "    )\n",
       "    (10): InvertedResidual(\n",
       "      (conv): Sequential(\n",
       "        (0): Conv2dNormActivation(\n",
       "          (0): Conv2d(64, 384, kernel_size=(1, 1), stride=(1, 1), bias=False)\n",
       "          (1): BatchNorm2d(384, eps=1e-05, momentum=0.1, affine=True, track_running_stats=True)\n",
       "          (2): ReLU6(inplace=True)\n",
       "        )\n",
       "        (1): Conv2dNormActivation(\n",
       "          (0): Conv2d(384, 384, kernel_size=(3, 3), stride=(1, 1), padding=(1, 1), groups=384, bias=False)\n",
       "          (1): BatchNorm2d(384, eps=1e-05, momentum=0.1, affine=True, track_running_stats=True)\n",
       "          (2): ReLU6(inplace=True)\n",
       "        )\n",
       "        (2): Conv2d(384, 64, kernel_size=(1, 1), stride=(1, 1), bias=False)\n",
       "        (3): BatchNorm2d(64, eps=1e-05, momentum=0.1, affine=True, track_running_stats=True)\n",
       "      )\n",
       "    )\n",
       "    (11): InvertedResidual(\n",
       "      (conv): Sequential(\n",
       "        (0): Conv2dNormActivation(\n",
       "          (0): Conv2d(64, 384, kernel_size=(1, 1), stride=(1, 1), bias=False)\n",
       "          (1): BatchNorm2d(384, eps=1e-05, momentum=0.1, affine=True, track_running_stats=True)\n",
       "          (2): ReLU6(inplace=True)\n",
       "        )\n",
       "        (1): Conv2dNormActivation(\n",
       "          (0): Conv2d(384, 384, kernel_size=(3, 3), stride=(1, 1), padding=(1, 1), groups=384, bias=False)\n",
       "          (1): BatchNorm2d(384, eps=1e-05, momentum=0.1, affine=True, track_running_stats=True)\n",
       "          (2): ReLU6(inplace=True)\n",
       "        )\n",
       "        (2): Conv2d(384, 96, kernel_size=(1, 1), stride=(1, 1), bias=False)\n",
       "        (3): BatchNorm2d(96, eps=1e-05, momentum=0.1, affine=True, track_running_stats=True)\n",
       "      )\n",
       "    )\n",
       "    (12): InvertedResidual(\n",
       "      (conv): Sequential(\n",
       "        (0): Conv2dNormActivation(\n",
       "          (0): Conv2d(96, 576, kernel_size=(1, 1), stride=(1, 1), bias=False)\n",
       "          (1): BatchNorm2d(576, eps=1e-05, momentum=0.1, affine=True, track_running_stats=True)\n",
       "          (2): ReLU6(inplace=True)\n",
       "        )\n",
       "        (1): Conv2dNormActivation(\n",
       "          (0): Conv2d(576, 576, kernel_size=(3, 3), stride=(1, 1), padding=(1, 1), groups=576, bias=False)\n",
       "          (1): BatchNorm2d(576, eps=1e-05, momentum=0.1, affine=True, track_running_stats=True)\n",
       "          (2): ReLU6(inplace=True)\n",
       "        )\n",
       "        (2): Conv2d(576, 96, kernel_size=(1, 1), stride=(1, 1), bias=False)\n",
       "        (3): BatchNorm2d(96, eps=1e-05, momentum=0.1, affine=True, track_running_stats=True)\n",
       "      )\n",
       "    )\n",
       "    (13): InvertedResidual(\n",
       "      (conv): Sequential(\n",
       "        (0): Conv2dNormActivation(\n",
       "          (0): Conv2d(96, 576, kernel_size=(1, 1), stride=(1, 1), bias=False)\n",
       "          (1): BatchNorm2d(576, eps=1e-05, momentum=0.1, affine=True, track_running_stats=True)\n",
       "          (2): ReLU6(inplace=True)\n",
       "        )\n",
       "        (1): Conv2dNormActivation(\n",
       "          (0): Conv2d(576, 576, kernel_size=(3, 3), stride=(1, 1), padding=(1, 1), groups=576, bias=False)\n",
       "          (1): BatchNorm2d(576, eps=1e-05, momentum=0.1, affine=True, track_running_stats=True)\n",
       "          (2): ReLU6(inplace=True)\n",
       "        )\n",
       "        (2): Conv2d(576, 96, kernel_size=(1, 1), stride=(1, 1), bias=False)\n",
       "        (3): BatchNorm2d(96, eps=1e-05, momentum=0.1, affine=True, track_running_stats=True)\n",
       "      )\n",
       "    )\n",
       "    (14): InvertedResidual(\n",
       "      (conv): Sequential(\n",
       "        (0): Conv2dNormActivation(\n",
       "          (0): Conv2d(96, 576, kernel_size=(1, 1), stride=(1, 1), bias=False)\n",
       "          (1): BatchNorm2d(576, eps=1e-05, momentum=0.1, affine=True, track_running_stats=True)\n",
       "          (2): ReLU6(inplace=True)\n",
       "        )\n",
       "        (1): Conv2dNormActivation(\n",
       "          (0): Conv2d(576, 576, kernel_size=(3, 3), stride=(2, 2), padding=(1, 1), groups=576, bias=False)\n",
       "          (1): BatchNorm2d(576, eps=1e-05, momentum=0.1, affine=True, track_running_stats=True)\n",
       "          (2): ReLU6(inplace=True)\n",
       "        )\n",
       "        (2): Conv2d(576, 160, kernel_size=(1, 1), stride=(1, 1), bias=False)\n",
       "        (3): BatchNorm2d(160, eps=1e-05, momentum=0.1, affine=True, track_running_stats=True)\n",
       "      )\n",
       "    )\n",
       "    (15): InvertedResidual(\n",
       "      (conv): Sequential(\n",
       "        (0): Conv2dNormActivation(\n",
       "          (0): Conv2d(160, 960, kernel_size=(1, 1), stride=(1, 1), bias=False)\n",
       "          (1): BatchNorm2d(960, eps=1e-05, momentum=0.1, affine=True, track_running_stats=True)\n",
       "          (2): ReLU6(inplace=True)\n",
       "        )\n",
       "        (1): Conv2dNormActivation(\n",
       "          (0): Conv2d(960, 960, kernel_size=(3, 3), stride=(1, 1), padding=(1, 1), groups=960, bias=False)\n",
       "          (1): BatchNorm2d(960, eps=1e-05, momentum=0.1, affine=True, track_running_stats=True)\n",
       "          (2): ReLU6(inplace=True)\n",
       "        )\n",
       "        (2): Conv2d(960, 160, kernel_size=(1, 1), stride=(1, 1), bias=False)\n",
       "        (3): BatchNorm2d(160, eps=1e-05, momentum=0.1, affine=True, track_running_stats=True)\n",
       "      )\n",
       "    )\n",
       "    (16): InvertedResidual(\n",
       "      (conv): Sequential(\n",
       "        (0): Conv2dNormActivation(\n",
       "          (0): Conv2d(160, 960, kernel_size=(1, 1), stride=(1, 1), bias=False)\n",
       "          (1): BatchNorm2d(960, eps=1e-05, momentum=0.1, affine=True, track_running_stats=True)\n",
       "          (2): ReLU6(inplace=True)\n",
       "        )\n",
       "        (1): Conv2dNormActivation(\n",
       "          (0): Conv2d(960, 960, kernel_size=(3, 3), stride=(1, 1), padding=(1, 1), groups=960, bias=False)\n",
       "          (1): BatchNorm2d(960, eps=1e-05, momentum=0.1, affine=True, track_running_stats=True)\n",
       "          (2): ReLU6(inplace=True)\n",
       "        )\n",
       "        (2): Conv2d(960, 160, kernel_size=(1, 1), stride=(1, 1), bias=False)\n",
       "        (3): BatchNorm2d(160, eps=1e-05, momentum=0.1, affine=True, track_running_stats=True)\n",
       "      )\n",
       "    )\n",
       "    (17): InvertedResidual(\n",
       "      (conv): Sequential(\n",
       "        (0): Conv2dNormActivation(\n",
       "          (0): Conv2d(160, 960, kernel_size=(1, 1), stride=(1, 1), bias=False)\n",
       "          (1): BatchNorm2d(960, eps=1e-05, momentum=0.1, affine=True, track_running_stats=True)\n",
       "          (2): ReLU6(inplace=True)\n",
       "        )\n",
       "        (1): Conv2dNormActivation(\n",
       "          (0): Conv2d(960, 960, kernel_size=(3, 3), stride=(1, 1), padding=(1, 1), groups=960, bias=False)\n",
       "          (1): BatchNorm2d(960, eps=1e-05, momentum=0.1, affine=True, track_running_stats=True)\n",
       "          (2): ReLU6(inplace=True)\n",
       "        )\n",
       "        (2): Conv2d(960, 320, kernel_size=(1, 1), stride=(1, 1), bias=False)\n",
       "        (3): BatchNorm2d(320, eps=1e-05, momentum=0.1, affine=True, track_running_stats=True)\n",
       "      )\n",
       "    )\n",
       "    (18): Conv2dNormActivation(\n",
       "      (0): Conv2d(320, 1280, kernel_size=(1, 1), stride=(1, 1), bias=False)\n",
       "      (1): BatchNorm2d(1280, eps=1e-05, momentum=0.1, affine=True, track_running_stats=True)\n",
       "      (2): ReLU6(inplace=True)\n",
       "    )\n",
       "  )\n",
       "  (classifier): Sequential(\n",
       "    (0): Dropout(p=0.2, inplace=False)\n",
       "    (1): Linear(in_features=1280, out_features=1000, bias=True)\n",
       "  )\n",
       ")"
      ]
     },
     "execution_count": 4,
     "metadata": {},
     "output_type": "execute_result"
    }
   ],
   "source": [
    "device = torch.device(\"cuda:0\")\n",
    "model = torchvision.models.mobilenet_v2(weights='IMAGENET1K_V1').cuda(device)\n",
    "criterion = torch.nn.CrossEntropyLoss().cuda(device)\n",
    "optimizer = torch.optim.SGD(model.parameters(), lr=0.001, momentum=0.9)\n",
    "model.train()"
   ]
  },
  {
   "cell_type": "markdown",
   "metadata": {
    "id": "6aL5WvOfWmoT"
   },
   "source": [
    "Define the training step for each batch of input data.\n",
    "\n"
   ]
  },
  {
   "cell_type": "code",
   "execution_count": 5,
   "metadata": {
    "id": "INNVfXlqWmoU"
   },
   "outputs": [],
   "source": [
    "def train(data):\n",
    "    inputs, labels = data[0].to(device=device, non_blocking=True), data[1].to(device=device, non_blocking=True)\n",
    "    #inputs, labels = data[0].to(device=device), data[1].to(device=device)\n",
    "    inputs = (inputs.to(torch.float32) / 255. - 0.5) / 0.5\n",
    "    with torch.autocast(device_type='cuda', dtype=torch.float16):\n",
    "        outputs = model(inputs)\n",
    "        loss = criterion(outputs, labels) \n",
    "    #outputs = model(inputs)\n",
    "    #loss = criterion(outputs, labels)\n",
    "    # Note - torch.cuda.amp.GradScaler() may be required\n",
    "    optimizer.zero_grad()\n",
    "    loss.backward()\n",
    "    optimizer.step()"
   ]
  },
  {
   "cell_type": "markdown",
   "metadata": {
    "id": "__YV-Qj8WmoU"
   },
   "source": [
    "### 2. Use profiler to record execution events\n",
    "\n",
    "The profiler is enabled through the context manager and accepts several parameters,\n",
    "some of the most useful are:\n",
    "\n",
    "- ``schedule`` - callable that takes step (int) as a single parameter\n",
    "  and returns the profiler action to perform at each step.\n",
    "\n",
    "  In this example with ``wait=1, warmup=1, active=3, repeat=1``,\n",
    "  profiler will skip the first step/iteration,\n",
    "  start warming up on the second,\n",
    "  record the following three iterations,\n",
    "  after which the trace will become available and on_trace_ready (when set) is called.\n",
    "  In total, the cycle repeats once. Each cycle is called a \"span\" in TensorBoard plugin.\n",
    "\n",
    "  During ``wait`` steps, the profiler is disabled.\n",
    "  During ``warmup`` steps, the profiler starts tracing but the results are discarded.\n",
    "  This is for reducing the profiling overhead.\n",
    "  The overhead at the beginning of profiling is high and easy to bring skew to the profiling result.\n",
    "  During ``active`` steps, the profiler works and records events.\n",
    "- ``on_trace_ready`` - callable that is called at the end of each cycle;\n",
    "  In this example we use ``torch.profiler.tensorboard_trace_handler`` to generate result files for TensorBoard.\n",
    "  After profiling, result files will be saved into the ``./log/mobilenet_v2`` directory.\n",
    "  Specify this directory as a ``logdir`` parameter to analyze profile in TensorBoard.\n",
    "- ``record_shapes`` - whether to record shapes of the operator inputs.\n",
    "- ``profile_memory`` - Track tensor memory allocation/deallocation. Note, for old version of pytorch with version\n",
    "  before 1.10, if you suffer long profiling time, please disable it or upgrade to new version.\n",
    "- ``with_stack`` - Record source information (file and line number) for the ops.\n",
    "  If the TensorBoard is launched in VS Code ([reference](https://code.visualstudio.com/docs/datascience/pytorch-support#_tensorboard-integration)),\n",
    "  clicking a stack frame will navigate to the specific code line.\n",
    "\n"
   ]
  },
  {
   "cell_type": "code",
   "execution_count": 6,
   "metadata": {
    "id": "AqXGV2HRWmoU"
   },
   "outputs": [
    {
     "name": "stderr",
     "output_type": "stream",
     "text": [
      "STAGE:2024-02-14 02:23:43 1804:1804 ActivityProfilerController.cpp:312] Completed Stage: Warm Up\n",
      "STAGE:2024-02-14 02:23:43 1804:1804 ActivityProfilerController.cpp:318] Completed Stage: Collection\n",
      "STAGE:2024-02-14 02:23:43 1804:1804 ActivityProfilerController.cpp:322] Completed Stage: Post Processing\n"
     ]
    }
   ],
   "source": [
    "with torch.profiler.profile(\n",
    "        schedule=torch.profiler.schedule(wait=1, warmup=1, active=3, repeat=1),\n",
    "        on_trace_ready=torch.profiler.tensorboard_trace_handler('./log/mobilenet_v2'),\n",
    "        record_shapes=True,\n",
    "        profile_memory=True,\n",
    "        with_stack=True\n",
    ") as prof:\n",
    "    for step, batch_data in enumerate(train_loader):\n",
    "        prof.step()  # Need to call this at each step to notify profiler of steps' boundary.\n",
    "        if step >= 1 + 1 + 3:\n",
    "            break\n",
    "        train(batch_data)"
   ]
  },
  {
   "cell_type": "markdown",
   "metadata": {
    "id": "xx-mnQ1-WmoU"
   },
   "source": [
    "Alternatively, the following non-context manager start/stop is supported as well.\n",
    "\n"
   ]
  },
  {
   "cell_type": "code",
   "execution_count": null,
   "metadata": {
    "id": "FESQv9TTWmoV"
   },
   "outputs": [],
   "source": [
    "# prof = torch.profiler.profile(\n",
    "#         schedule=torch.profiler.schedule(wait=1, warmup=1, active=3, repeat=1),\n",
    "#         on_trace_ready=torch.profiler.tensorboard_trace_handler('./log/mobilenet_v2'),\n",
    "#         record_shapes=True,\n",
    "#         with_stack=True)\n",
    "# prof.start()\n",
    "# for step, batch_data in enumerate(train_loader):\n",
    "#     prof.step()\n",
    "#     if step >= 1 + 1 + 3:\n",
    "#         break\n",
    "#     train(batch_data)\n",
    "# prof.stop()"
   ]
  },
  {
   "cell_type": "markdown",
   "metadata": {
    "id": "vp20FAO3WmoV"
   },
   "source": [
    "### 3. Run the profiler\n",
    "\n",
    "Run the above code. The profiling result will be saved under ``./log/mobilenet_v2`` directory.\n",
    "\n"
   ]
  },
  {
   "cell_type": "markdown",
   "metadata": {
    "id": "Z6Vcbfk-WmoV"
   },
   "source": [
    "### 4. Use TensorBoard to view results and analyze model performance\n",
    "\n",
    "<div class=\"alert alert-info\"><h4>Note</h4><p>TensorBoard Plugin support has been deprecated, so some of these functions may not\n",
    "    work as previously. Please take a look at the replacement, [HTA](https://github.com/pytorch/kineto/tree/main#holistic-trace-analysis).</p></div>\n",
    "\n",
    "Install PyTorch Profiler TensorBoard Plugin.\n",
    "\n",
    "```\n",
    "pip install torch_tb_profiler\n",
    "```\n"
   ]
  },
  {
   "cell_type": "markdown",
   "metadata": {
    "id": "3b133wzMWmoV"
   },
   "source": [
    "Launch the TensorBoard.\n",
    "\n",
    "```\n",
    "tensorboard --logdir=./log\n",
    "```\n"
   ]
  },
  {
   "cell_type": "markdown",
   "metadata": {
    "id": "ZY5daUIeWmoV"
   },
   "source": [
    "Open the TensorBoard profile URL in Google Chrome browser or Microsoft Edge browser.\n",
    "\n",
    "```\n",
    "http://localhost:6006/#pytorch_profiler\n",
    "```\n"
   ]
  },
  {
   "cell_type": "markdown",
   "metadata": {
    "id": "tI0HR-jXWmoV"
   },
   "source": [
    "You could see Profiler plugin page as shown below.\n",
    "\n",
    "- Overview\n",
    "The overview shows a high-level summary of model performance.\n",
    "\n",
    "The \"GPU Summary\" panel shows the GPU configuration, GPU usage and Tensor Cores usage.\n",
    "In this example, the GPU Utilization is low.\n",
    "The details of these metrics are [here](https://github.com/pytorch/kineto/blob/main/tb_plugin/docs/gpu_utilization.md).\n",
    "\n",
    "The \"Step Time Breakdown\" shows distribution of time spent in each step over different categories of execution.\n",
    "In this example, you can see the ``DataLoader`` overhead is significant.\n",
    "\n",
    "The bottom \"Performance Recommendation\" uses the profiling data\n",
    "to automatically highlight likely bottlenecks,\n",
    "and gives you actionable optimization suggestions.\n",
    "\n",
    "You can change the view page in left \"Views\" dropdown list.\n",
    "\n",
    "- Operator view\n",
    "The operator view displays the performance of every PyTorch operator\n",
    "that is executed either on the host or device.\n",
    "\n",
    "- Kernel view\n",
    "The GPU kernel view shows all kernels’ time spent on GPU.\n",
    "\n",
    "Tensor Cores Used:\n",
    "Whether this kernel uses Tensor Cores.\n",
    "\n",
    "Mean Blocks per SM:\n",
    "Blocks per SM = Blocks of this kernel / SM number of this GPU.\n",
    "If this number is less than 1, it indicates the GPU multiprocessors are not fully utilized.\n",
    "\"Mean Blocks per SM\" is weighted average of all runs of this kernel name, using each run’s duration as weight.\n",
    "\n",
    "Mean Est. Achieved Occupancy:\n",
    "Est. Achieved Occupancy is defined in this column’s tooltip.\n",
    "For most cases such as memory bandwidth bounded kernels, the higher the better.\n",
    "\"Mean Est. Achieved Occupancy\" is weighted average of all runs of this kernel name,\n",
    "using each run’s duration as weight.\n",
    "\n",
    "- Trace view\n",
    "The trace view shows timeline of profiled operators and GPU kernels.\n",
    "You can select it to see details as below.\n",
    "\n",
    "You can move the graph and zoom in/out with the help of right side toolbar.\n",
    "And keyboard can also be used to zoom and move around inside the timeline.\n",
    "The ‘w’ and ‘s’ keys zoom in centered around the mouse,\n",
    "and the ‘a’ and ‘d’ keys move the timeline left and right.\n",
    "You can hit these keys multiple times until you see a readable representation.\n",
    "\n",
    "\n"
   ]
  },
  {
   "cell_type": "markdown",
   "metadata": {
    "id": "_LCP3n-fWmoV"
   },
   "source": [
    "### 5. Improve performance with the help of profiler\n",
    "\n",
    "At the bottom of \"Overview\" page, the suggestion in \"Performance Recommendation\" hints the bottleneck is ``DataLoader``.\n",
    "The PyTorch ``DataLoader`` uses single process by default.\n",
    "User could enable multi-process data loading by setting the parameter ``num_workers``.\n",
    "[Here](https://pytorch.org/docs/stable/data.html#single-and-multi-process-data-loading) is more details."
   ]
  },
  {
   "cell_type": "markdown",
   "metadata": {
    "id": "cG6t1VOLWmoW"
   },
   "source": [
    "## Learn More\n",
    "\n",
    "Take a look at the following documents to continue your learning,\n",
    "and feel free to open an issue [here](https://github.com/pytorch/kineto/issues).\n",
    "\n",
    "-  [PyTorch TensorBoard Profiler Github](https://github.com/pytorch/kineto/tree/master/tb_plugin)\n",
    "-  [torch.profiler API](https://pytorch.org/docs/master/profiler.html)\n",
    "-  [HTA](https://github.com/pytorch/kineto/tree/main#holistic-trace-analysis)\n",
    "\n"
   ]
  }
 ],
 "metadata": {
  "colab": {
   "provenance": []
  },
  "kernelspec": {
   "display_name": "Python 3 (ipykernel)",
   "language": "python",
   "name": "python3"
  },
  "language_info": {
   "codemirror_mode": {
    "name": "ipython",
    "version": 3
   },
   "file_extension": ".py",
   "mimetype": "text/x-python",
   "name": "python",
   "nbconvert_exporter": "python",
   "pygments_lexer": "ipython3",
   "version": "3.10.12"
  }
 },
 "nbformat": 4,
 "nbformat_minor": 4
}
